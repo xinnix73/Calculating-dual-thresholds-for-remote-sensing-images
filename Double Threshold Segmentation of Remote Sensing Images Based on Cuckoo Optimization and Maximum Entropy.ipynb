{
 "cells": [
  {
   "cell_type": "code",
   "execution_count": 2,
   "id": "e13909ad-1d8e-43e1-91dc-6010d502249b",
   "metadata": {},
   "outputs": [],
   "source": [
    "import cv2\n",
    "import numpy as np\n",
    "from osgeo import gdal\n",
    "from scipy import misc\n",
    "from scipy import stats\n",
    "import pandas as pd\n",
    "import math\n",
    "import matplotlib.pyplot as plt\n",
    "from sklearn import decomposition as dec\n",
    "import pandas as pd\n",
    "from sklearn.preprocessing import StandardScaler\n",
    "from scipy.linalg import orthogonal_procrustes\n",
    "from sklearn.preprocessing import minmax_scale\n",
    "from sklearn import cluster\n",
    "from sklearn import mixture\n",
    "import scipy.special as sc_special\n",
    "import tkinter.filedialog\n",
    "import os\n",
    "from collections import Counter\n",
    "import itertools as it\n",
    "from sklearn import metrics\n",
    "from scipy.spatial.distance import pdist, euclidean\n",
    "from scipy.fftpack import dct, idct"
   ]
  },
  {
   "cell_type": "code",
   "execution_count": 11,
   "id": "88708546-3fd7-4ae4-b727-8dbbb607b2e2",
   "metadata": {},
   "outputs": [],
   "source": [
    "#filename = tkinter.filedialog.askopenfilenames()\n",
    "#%gui tk"
   ]
  },
  {
   "cell_type": "code",
   "execution_count": 1,
   "id": "a35eeaa8-8272-44dd-acff-fdb62ad57c7e",
   "metadata": {},
   "outputs": [],
   "source": [
    "filename1 = ('C:/Users/yang/Desktop/同步文件/svd分解无监督聚类/影像(show)/s2ch20190626.tif',\n",
    " 'C:/Users/yang/Desktop/同步文件/svd分解无监督聚类/影像(show)/s2th20200503.tif',\n",
    " 'C:/Users/yang/Desktop/同步文件/svd分解无监督聚类/影像(show)/sentinel2_th_20170529.tif',\n",
    " 'C:/Users/yang/Desktop/同步文件/svd分解无监督聚类/影像(show)/sentinel2_th_20190817.tif',\n",
    " 'C:/Users/yang/Desktop/同步文件/svd分解无监督聚类/影像(show)/sentinel2_th_20200503.tif',\n",
    " #'C:/Users/yang/Desktop/同步文件/svd分解无监督聚类/影像(show)/Sentinel2ch20200511.tif',\n",
    " 'C:/Users/yang/Desktop/同步文件/svd分解无监督聚类/影像(show)/Sentinel2taihu20170608.tif',###\n",
    " 'C:/Users/yang/Desktop/同步文件/svd分解无监督聚类/影像(show)/Sentinel2taihu20170728.tif',\n",
    " 'C:/Users/yang/Desktop/同步文件/svd分解无监督聚类/影像(show)/Sentinel2taihu20180618.tif',\n",
    " 'C:/Users/yang/Desktop/同步文件/svd分解无监督聚类/影像(show)/Sentinel2taihu20190603.tif',\n",
    " 'C:/Users/yang/Desktop/同步文件/svd分解无监督聚类/影像(show)/Sentinel2taihu20190628.tif',\n",
    " 'C:/Users/yang/Desktop/同步文件/svd分解无监督聚类/影像(show)/Sentinel2taihu20200801.tif',\n",
    " 'C:/Users/yang/Desktop/同步文件/svd分解无监督聚类/影像(show)/Sentinel2taihu20200905.tif',\n",
    " 'C:/Users/yang/Desktop/同步文件/svd分解无监督聚类/影像(show)/Sentinel2taihu20201005.tif',\n",
    " 'C:/Users/yang/Desktop/同步文件/svd分解无监督聚类/影像(show)/Sentinel2taihu20210622.tif',\n",
    " 'C:/Users/yang/Desktop/同步文件/svd分解无监督聚类/影像(show)/Sentinel2th20210324.tif',\n",
    " 'C:/Users/yang/Desktop/同步文件/svd分解无监督聚类/影像(show)/Sentinel2th20211204.tif',\n",
    " 'C:/Users/yang/Desktop/同步文件/svd分解无监督聚类/影像(show)/Sentinel2th20200319.tif',\n",
    " 'C:/Users/yang/Desktop/同步文件/svd分解无监督聚类/影像(show)/Sentinel2th20200413.tif')"
   ]
  },
  {
   "cell_type": "code",
   "execution_count": 22,
   "id": "128dc814-b92d-4fe0-9de5-4f5c023fccaf",
   "metadata": {},
   "outputs": [],
   "source": [
    "def jisuan_dct_svd2(path):\n",
    "    ###################先定义一些函数\n",
    "    def qunan(img):\n",
    "        gray = img[~np.isnan(img)]\n",
    "        return gray\n",
    "    def Entropy(labels,base=2):   \n",
    "        probs = pd.Series(labels).value_counts() / len(labels)#seriesimg\n",
    "        en = stats.entropy(probs,base=base)\n",
    "        return en\n",
    "    def dual_thre(band):\n",
    "        def cuckoo_search(n, m, fit_func, lower_boundary, upper_boundary, iter_num = 100,pa = 0.25, beta = 1.5, step_size = 0.01):\n",
    "            # get initial nests' locations \n",
    "            nests = generate_nests(n, m, lower_boundary, upper_boundary)\n",
    "            fitness = calc_fitness(fit_func, nests)\n",
    "        \n",
    "            # get the best nest and record it\n",
    "            best_nest_index = np.argmax(fitness)\n",
    "            best_fitness = fitness[best_nest_index]\n",
    "            best_nest = nests[best_nest_index].copy()\n",
    "        \n",
    "            for _ in range(iter_num):\n",
    "                nests = update_nests(fit_func, lower_boundary, upper_boundary, nests, best_nest, fitness, step_size)\n",
    "                nests = abandon_nests(nests, lower_boundary, upper_boundary, pa)\n",
    "                fitness = calc_fitness(fit_func, nests)\n",
    "                \n",
    "                max_nest_index = np.argmax(fitness)\n",
    "                max_fitness = fitness[max_nest_index]\n",
    "                max_nest = nests[max_nest_index]\n",
    "        \n",
    "                if (max_fitness > best_fitness):\n",
    "                    best_nest = max_nest.copy()\n",
    "                    best_fitness = max_fitness\n",
    "        \n",
    "            return (best_nest, best_fitness)\n",
    "\n",
    "        def generate_nests(n, m, lower_boundary, upper_boundary):\n",
    "            lower_boundary = np.array(lower_boundary)\n",
    "            upper_boundary = np.array(upper_boundary)\n",
    "            nests = np.empty((n, m))\n",
    "        \n",
    "            for each_nest in range(n):\n",
    "                nests[each_nest] = lower_boundary + np.array([np.random.rand() for _ in range(m)]) * (upper_boundary - lower_boundary)\n",
    "        \n",
    "            return nests\n",
    "        \n",
    "        def update_nests(fit_func, lower_boundary, upper_boundary, nests, best_nest, fitness, step_coefficient):\n",
    "        \n",
    "            lower_boundary = np.array(lower_boundary)\n",
    "            upper_boundary = np.array(upper_boundary)\n",
    "            n, m = nests.shape\n",
    "            # generate steps using levy flight\n",
    "            steps = levy_flight(n, m, 1.5)\n",
    "            new_nests = nests.copy()\n",
    "        \n",
    "            for each_nest in range(n):\n",
    "                # coefficient 0.01 is to avoid levy flights becoming too aggresive\n",
    "                # and (nest[each_nest] - best_nest) could let the best nest be remained\n",
    "                step_size = step_coefficient * steps[each_nest] * (nests[each_nest] - best_nest)\n",
    "                step_direction = np.random.rand(m)\n",
    "                new_nests[each_nest] += step_size * step_direction\n",
    "                # apply boundary condtions\n",
    "                new_nests[each_nest][new_nests[each_nest] < lower_boundary] = lower_boundary[new_nests[each_nest] < lower_boundary]\n",
    "                new_nests[each_nest][new_nests[each_nest] > upper_boundary] = upper_boundary[new_nests[each_nest] > upper_boundary]\n",
    "        \n",
    "            new_fitness = calc_fitness(fit_func, new_nests)\n",
    "            nests[new_fitness > fitness] = new_nests[new_fitness > fitness]\n",
    "            \n",
    "            return nests\n",
    "        \n",
    "        def abandon_nests(nests, lower_boundary, upper_boundary, pa):\n",
    "        \n",
    "            lower_boundary = np.array(lower_boundary)\n",
    "            upper_boundary = np.array(upper_boundary)\n",
    "            n, m = nests.shape\n",
    "            for each_nest in range(n):\n",
    "                if (np.random.rand() < pa):\n",
    "                    step_size = np.random.rand() * (nests[np.random.randint(0, n)] - nests[np.random.randint(0, n)])\n",
    "                    nests[each_nest] += step_size\n",
    "                    # apply boundary condtions\n",
    "                    nests[each_nest][nests[each_nest] < lower_boundary] = lower_boundary[nests[each_nest] < lower_boundary]\n",
    "                    nests[each_nest][nests[each_nest] > upper_boundary] = upper_boundary[nests[each_nest] > upper_boundary]\n",
    "            \n",
    "            return nests\n",
    "        \n",
    "        def levy_flight(n, m, beta):\n",
    "        \n",
    "            sigma_u = (sc_special.gamma(1+beta)*np.sin(np.pi*beta/2)/(sc_special.gamma((1+beta)/2)*beta*(2**((beta-1)/2))))**(1/beta)\n",
    "            sigma_v = 1\n",
    "        \n",
    "            u =  np.random.normal(0, sigma_u, (n, m))\n",
    "            v = np.random.normal(0, sigma_v, (n, m))\n",
    "        \n",
    "            steps = u/((np.abs(v))**(1/beta))\n",
    "        \n",
    "            return steps\n",
    "        \n",
    "        def calc_fitness(fit_func, nests):\n",
    "        \n",
    "            n, m = nests.shape\n",
    "            fitness = np.empty(n)\n",
    "        \n",
    "            for each_nest in range(n):\n",
    "                fitness[each_nest] = fit_func(nests[each_nest])\n",
    "        \n",
    "            return fitness\n",
    "        if __name__=='__main__':\n",
    "            \n",
    "            def en(nest):\n",
    "                x, y = nest  \n",
    "                a = seriesimg[seriesimg<=x]\n",
    "                a_shang = Entropy(a)\n",
    "                b = seriesimg[(seriesimg>x)&(seriesimg<y)]\n",
    "                b_shang = Entropy(b)\n",
    "                c = seriesimg[seriesimg>=y]\n",
    "                c_shang = Entropy(c)\n",
    "                zongshang = a_shang+b_shang+c_shang\n",
    "                return zongshang\n",
    "            \n",
    "            seriesimg = qunan(band)\n",
    "            xia1,shang1,n3,n4 = cv2.minMaxLoc(seriesimg)\n",
    "            #mean = np.mean(seriesimg)\n",
    "            #std = np.std(seriesimg)\n",
    "            #xia1 = mean-2*std\n",
    "            #shang1 = mean+2*std\n",
    "            best_nest1, best_fitness1 = cuckoo_search(15, 2, en, [xia1, xia1], [shang1, shang1], step_size = 0.01)\n",
    "            \n",
    "        return best_nest1\n",
    "    def band_trunsvd(matrix,n):                \n",
    "        svd = dec.TruncatedSVD(n_components=n)\n",
    "        final = svd.fit_transform(matrix)\n",
    "        return final\n",
    "    def baocun(gray,name):\n",
    "        im_width = dataset.RasterXSize    #栅格矩阵的列数\n",
    "        im_height = dataset.RasterYSize   #栅格矩阵的行数\n",
    "        im_geotrans = dataset.GetGeoTransform()  #仿射矩阵\n",
    "        im_proj = dataset.GetProjection() #地图投影信息\n",
    "        driver = gdal.GetDriverByName(\"GTiff\")                \n",
    "        dataset2 = driver.Create(name, im_width, im_height, 1, gdal.GDT_Float32)\n",
    "        dataset2.SetGeoTransform(im_geotrans)              #写入仿射变换参数\n",
    "        dataset2.SetProjection(im_proj)\n",
    "        dataset2.GetRasterBand(1).WriteArray(gray)\n",
    "        del dataset2\n",
    "    \n",
    "    #####################提取波段和预处理\n",
    "    dataset = gdal.Open(path)    \n",
    "    b=dataset.GetRasterBand(1).ReadAsArray()\n",
    "    g=dataset.GetRasterBand(2).ReadAsArray()\n",
    "    r=dataset.GetRasterBand(3).ReadAsArray()\n",
    "    nir=dataset.GetRasterBand(4).ReadAsArray()\n",
    "    swir=dataset.GetRasterBand(5).ReadAsArray()\n",
    "    swir2=dataset.GetRasterBand(6).ReadAsArray()\n",
    "    may_value = np.unique(b)\n",
    "    if (may_value[may_value>4]).shape[0]>=100:\n",
    "        b = b/10000\n",
    "        g = g/10000\n",
    "        r = r/10000\n",
    "        nir = nir/10000\n",
    "        swir = swir/10000\n",
    "        swir2 = swir2/10000\n",
    "    else:\n",
    "        pass\n",
    "    #############样点展平\n",
    "    qunanband = qunan(b)\n",
    "    zong = qunanband.shape[0]\n",
    "    b1 = qunan(b).reshape(zong,1)\n",
    "    g1 = qunan(g).reshape(zong,1)\n",
    "    r1 = qunan(r).reshape(zong,1)\n",
    "    nir1 = qunan(nir).reshape(zong,1)\n",
    "    swir_1 = qunan(swir).reshape(zong,1)\n",
    "    swir2_1 = qunan(swir2).reshape(zong,1)\n",
    "    newbands1 = np.hstack((b1,g1,r1,nir1,swir_1,swir2_1))\n",
    "    \n",
    "    x,y = b.shape\n",
    "    b2 = b.reshape(x*y,1)\n",
    "    g2 = g.reshape(x*y,1)\n",
    "    r2 = r.reshape(x*y,1)\n",
    "    nir2 = nir.reshape(x*y,1)\n",
    "    swir_2 = swir.reshape(x*y,1)\n",
    "    swir2_2 = swir2.reshape(x*y,1)\n",
    "    newimage = np.hstack((b2,g2,r2,nir2,swir_2,swir2_2))\n",
    "    \n",
    "    # def band_bianhuan1(matrix,n):                \n",
    "    #     svd = dec.NMF(n_components=n)#.\n",
    "    #     final = svd.fit_transform(matrix)\n",
    "    #     return final\n",
    "    tsvd_image = band_trunsvd(newbands1,4)\n",
    "    dct_image = dct(tsvd_image,3,norm='ortho')\n",
    "    \n",
    "    newimage2 = newimage[:,0:4] \n",
    "    pixloc = np.where(newimage2>-1000) \n",
    "    transform2 = dct_image.flatten()\n",
    "    length = pixloc[0].shape[0]\n",
    "    for i in range(0,length):\n",
    "        newimage2[pixloc[0][i],pixloc[1][i]]=transform2[i]\n",
    "    dct1 = newimage2[:,0:1].reshape(x,y)\n",
    "    dct2 = newimage2[:,1:2].reshape(x,y)\n",
    "    dct3 = newimage2[:,2:3].reshape(x,y)\n",
    "    #dct4 = newimage2[:,3:4].reshape(x,y)\n",
    "    #dct5 = newimage2[:,4:5].reshape(x,y)\n",
    "    ###########################\n",
    "    dct2 = np.round(dct2,6)\n",
    "    th_all =  dual_thre(dct2)\n",
    "    print(th_all)\n",
    "    th1,th2 = th_all\n",
    "    example = np.copy(b)\n",
    "    example[(dct2<=th1)]=dct_final_class_1\n",
    "    example[(dct2>=th2)]=dct_final_class_2+2\n",
    "    example[(dct2>th1)&(dct2<th2)] =4\n",
    "   \n",
    "    #muban1 = np.copy(image_tsvd1)\n",
    "    #final_image = np.where(muban1>-10000,example,muban1)\n",
    "    \n",
    "    a,b = os.path.splitext(os.path.basename(path))\n",
    "    name = str(th_all)\n",
    "    save_path ='C:/'+a+name+'nmf4_dct(3,ortho)_12(round6)'+'.tif'\n",
    "    baocun(example,save_path)"
   ]
  },
  {
   "cell_type": "code",
   "execution_count": 23,
   "id": "6335d59d-8a70-4a68-a6dc-98156cbf15ee",
   "metadata": {},
   "outputs": [
    {
     "name": "stderr",
     "output_type": "stream",
     "text": [
      "C:\\Users\\yang\\anaconda3\\lib\\site-packages\\sklearn\\decomposition\\_nmf.py:289: FutureWarning: The 'init' value, when 'init=None' and n_components is less than n_samples and n_features, will be changed from 'nndsvd' to 'nndsvda' in 1.1 (renaming of 0.26).\n",
      "  warnings.warn(\n",
      "C:\\Users\\yang\\anaconda3\\lib\\site-packages\\sklearn\\decomposition\\_nmf.py:1637: ConvergenceWarning: Maximum number of iterations 200 reached. Increase it to improve convergence.\n",
      "  warnings.warn(\n"
     ]
    },
    {
     "name": "stdout",
     "output_type": "stream",
     "text": [
      "[0.00166618 0.0126225 ]\n"
     ]
    },
    {
     "name": "stderr",
     "output_type": "stream",
     "text": [
      "C:\\Users\\yang\\anaconda3\\lib\\site-packages\\sklearn\\decomposition\\_nmf.py:289: FutureWarning: The 'init' value, when 'init=None' and n_components is less than n_samples and n_features, will be changed from 'nndsvd' to 'nndsvda' in 1.1 (renaming of 0.26).\n",
      "  warnings.warn(\n",
      "C:\\Users\\yang\\anaconda3\\lib\\site-packages\\sklearn\\decomposition\\_nmf.py:1637: ConvergenceWarning: Maximum number of iterations 200 reached. Increase it to improve convergence.\n",
      "  warnings.warn(\n"
     ]
    },
    {
     "name": "stdout",
     "output_type": "stream",
     "text": [
      "[-0.00259035  0.00585193]\n"
     ]
    },
    {
     "name": "stderr",
     "output_type": "stream",
     "text": [
      "C:\\Users\\yang\\anaconda3\\lib\\site-packages\\sklearn\\decomposition\\_nmf.py:289: FutureWarning: The 'init' value, when 'init=None' and n_components is less than n_samples and n_features, will be changed from 'nndsvd' to 'nndsvda' in 1.1 (renaming of 0.26).\n",
      "  warnings.warn(\n",
      "C:\\Users\\yang\\anaconda3\\lib\\site-packages\\sklearn\\decomposition\\_nmf.py:1637: ConvergenceWarning: Maximum number of iterations 200 reached. Increase it to improve convergence.\n",
      "  warnings.warn(\n"
     ]
    },
    {
     "name": "stdout",
     "output_type": "stream",
     "text": [
      "[-0.0010532   0.00744272]\n"
     ]
    },
    {
     "name": "stderr",
     "output_type": "stream",
     "text": [
      "C:\\Users\\yang\\anaconda3\\lib\\site-packages\\sklearn\\decomposition\\_nmf.py:289: FutureWarning: The 'init' value, when 'init=None' and n_components is less than n_samples and n_features, will be changed from 'nndsvd' to 'nndsvda' in 1.1 (renaming of 0.26).\n",
      "  warnings.warn(\n",
      "C:\\Users\\yang\\anaconda3\\lib\\site-packages\\sklearn\\decomposition\\_nmf.py:1637: ConvergenceWarning: Maximum number of iterations 200 reached. Increase it to improve convergence.\n",
      "  warnings.warn(\n"
     ]
    },
    {
     "name": "stdout",
     "output_type": "stream",
     "text": [
      "[-0.00782666 -0.00094243]\n"
     ]
    },
    {
     "name": "stderr",
     "output_type": "stream",
     "text": [
      "C:\\Users\\yang\\anaconda3\\lib\\site-packages\\sklearn\\decomposition\\_nmf.py:289: FutureWarning: The 'init' value, when 'init=None' and n_components is less than n_samples and n_features, will be changed from 'nndsvd' to 'nndsvda' in 1.1 (renaming of 0.26).\n",
      "  warnings.warn(\n",
      "C:\\Users\\yang\\anaconda3\\lib\\site-packages\\sklearn\\decomposition\\_nmf.py:1637: ConvergenceWarning: Maximum number of iterations 200 reached. Increase it to improve convergence.\n",
      "  warnings.warn(\n"
     ]
    },
    {
     "name": "stdout",
     "output_type": "stream",
     "text": [
      "[-0.00284284  0.0071122 ]\n"
     ]
    },
    {
     "name": "stderr",
     "output_type": "stream",
     "text": [
      "C:\\Users\\yang\\anaconda3\\lib\\site-packages\\sklearn\\decomposition\\_nmf.py:289: FutureWarning: The 'init' value, when 'init=None' and n_components is less than n_samples and n_features, will be changed from 'nndsvd' to 'nndsvda' in 1.1 (renaming of 0.26).\n",
      "  warnings.warn(\n",
      "C:\\Users\\yang\\anaconda3\\lib\\site-packages\\sklearn\\decomposition\\_nmf.py:1637: ConvergenceWarning: Maximum number of iterations 200 reached. Increase it to improve convergence.\n",
      "  warnings.warn(\n"
     ]
    },
    {
     "name": "stdout",
     "output_type": "stream",
     "text": [
      "[-0.00874746  0.00802077]\n"
     ]
    },
    {
     "name": "stderr",
     "output_type": "stream",
     "text": [
      "C:\\Users\\yang\\anaconda3\\lib\\site-packages\\sklearn\\decomposition\\_nmf.py:289: FutureWarning: The 'init' value, when 'init=None' and n_components is less than n_samples and n_features, will be changed from 'nndsvd' to 'nndsvda' in 1.1 (renaming of 0.26).\n",
      "  warnings.warn(\n",
      "C:\\Users\\yang\\anaconda3\\lib\\site-packages\\sklearn\\decomposition\\_nmf.py:1637: ConvergenceWarning: Maximum number of iterations 200 reached. Increase it to improve convergence.\n",
      "  warnings.warn(\n"
     ]
    },
    {
     "name": "stdout",
     "output_type": "stream",
     "text": [
      "[-0.00103121  0.00569218]\n"
     ]
    },
    {
     "name": "stderr",
     "output_type": "stream",
     "text": [
      "C:\\Users\\yang\\anaconda3\\lib\\site-packages\\sklearn\\decomposition\\_nmf.py:289: FutureWarning: The 'init' value, when 'init=None' and n_components is less than n_samples and n_features, will be changed from 'nndsvd' to 'nndsvda' in 1.1 (renaming of 0.26).\n",
      "  warnings.warn(\n",
      "C:\\Users\\yang\\anaconda3\\lib\\site-packages\\sklearn\\decomposition\\_nmf.py:1637: ConvergenceWarning: Maximum number of iterations 200 reached. Increase it to improve convergence.\n",
      "  warnings.warn(\n"
     ]
    },
    {
     "name": "stdout",
     "output_type": "stream",
     "text": [
      "[0.00214425 0.0068812 ]\n"
     ]
    },
    {
     "name": "stderr",
     "output_type": "stream",
     "text": [
      "C:\\Users\\yang\\anaconda3\\lib\\site-packages\\sklearn\\decomposition\\_nmf.py:289: FutureWarning: The 'init' value, when 'init=None' and n_components is less than n_samples and n_features, will be changed from 'nndsvd' to 'nndsvda' in 1.1 (renaming of 0.26).\n",
      "  warnings.warn(\n",
      "C:\\Users\\yang\\anaconda3\\lib\\site-packages\\sklearn\\decomposition\\_nmf.py:1637: ConvergenceWarning: Maximum number of iterations 200 reached. Increase it to improve convergence.\n",
      "  warnings.warn(\n"
     ]
    },
    {
     "name": "stdout",
     "output_type": "stream",
     "text": [
      "[-0.00660082  0.00772074]\n"
     ]
    },
    {
     "name": "stderr",
     "output_type": "stream",
     "text": [
      "C:\\Users\\yang\\anaconda3\\lib\\site-packages\\sklearn\\decomposition\\_nmf.py:289: FutureWarning: The 'init' value, when 'init=None' and n_components is less than n_samples and n_features, will be changed from 'nndsvd' to 'nndsvda' in 1.1 (renaming of 0.26).\n",
      "  warnings.warn(\n",
      "C:\\Users\\yang\\anaconda3\\lib\\site-packages\\sklearn\\decomposition\\_nmf.py:1637: ConvergenceWarning: Maximum number of iterations 200 reached. Increase it to improve convergence.\n",
      "  warnings.warn(\n"
     ]
    },
    {
     "name": "stdout",
     "output_type": "stream",
     "text": [
      "[0.00045016 0.00789117]\n"
     ]
    },
    {
     "name": "stderr",
     "output_type": "stream",
     "text": [
      "C:\\Users\\yang\\anaconda3\\lib\\site-packages\\sklearn\\decomposition\\_nmf.py:289: FutureWarning: The 'init' value, when 'init=None' and n_components is less than n_samples and n_features, will be changed from 'nndsvd' to 'nndsvda' in 1.1 (renaming of 0.26).\n",
      "  warnings.warn(\n",
      "C:\\Users\\yang\\anaconda3\\lib\\site-packages\\sklearn\\decomposition\\_nmf.py:1637: ConvergenceWarning: Maximum number of iterations 200 reached. Increase it to improve convergence.\n",
      "  warnings.warn(\n"
     ]
    },
    {
     "name": "stdout",
     "output_type": "stream",
     "text": [
      "[-0.00756772  0.00598157]\n"
     ]
    },
    {
     "name": "stderr",
     "output_type": "stream",
     "text": [
      "C:\\Users\\yang\\anaconda3\\lib\\site-packages\\sklearn\\decomposition\\_nmf.py:289: FutureWarning: The 'init' value, when 'init=None' and n_components is less than n_samples and n_features, will be changed from 'nndsvd' to 'nndsvda' in 1.1 (renaming of 0.26).\n",
      "  warnings.warn(\n",
      "C:\\Users\\yang\\anaconda3\\lib\\site-packages\\sklearn\\decomposition\\_nmf.py:1637: ConvergenceWarning: Maximum number of iterations 200 reached. Increase it to improve convergence.\n",
      "  warnings.warn(\n"
     ]
    },
    {
     "name": "stdout",
     "output_type": "stream",
     "text": [
      "[-0.00433087  0.00046165]\n"
     ]
    },
    {
     "name": "stderr",
     "output_type": "stream",
     "text": [
      "C:\\Users\\yang\\anaconda3\\lib\\site-packages\\sklearn\\decomposition\\_nmf.py:289: FutureWarning: The 'init' value, when 'init=None' and n_components is less than n_samples and n_features, will be changed from 'nndsvd' to 'nndsvda' in 1.1 (renaming of 0.26).\n",
      "  warnings.warn(\n",
      "C:\\Users\\yang\\anaconda3\\lib\\site-packages\\sklearn\\decomposition\\_nmf.py:1637: ConvergenceWarning: Maximum number of iterations 200 reached. Increase it to improve convergence.\n",
      "  warnings.warn(\n"
     ]
    },
    {
     "name": "stdout",
     "output_type": "stream",
     "text": [
      "[-0.00792078 -0.0017112 ]\n"
     ]
    },
    {
     "name": "stderr",
     "output_type": "stream",
     "text": [
      "C:\\Users\\yang\\anaconda3\\lib\\site-packages\\sklearn\\decomposition\\_nmf.py:289: FutureWarning: The 'init' value, when 'init=None' and n_components is less than n_samples and n_features, will be changed from 'nndsvd' to 'nndsvda' in 1.1 (renaming of 0.26).\n",
      "  warnings.warn(\n",
      "C:\\Users\\yang\\anaconda3\\lib\\site-packages\\sklearn\\decomposition\\_nmf.py:1637: ConvergenceWarning: Maximum number of iterations 200 reached. Increase it to improve convergence.\n",
      "  warnings.warn(\n"
     ]
    },
    {
     "name": "stdout",
     "output_type": "stream",
     "text": [
      "[-0.00285585  0.0023415 ]\n"
     ]
    },
    {
     "name": "stderr",
     "output_type": "stream",
     "text": [
      "C:\\Users\\yang\\anaconda3\\lib\\site-packages\\sklearn\\decomposition\\_nmf.py:289: FutureWarning: The 'init' value, when 'init=None' and n_components is less than n_samples and n_features, will be changed from 'nndsvd' to 'nndsvda' in 1.1 (renaming of 0.26).\n",
      "  warnings.warn(\n",
      "C:\\Users\\yang\\anaconda3\\lib\\site-packages\\sklearn\\decomposition\\_nmf.py:1637: ConvergenceWarning: Maximum number of iterations 200 reached. Increase it to improve convergence.\n",
      "  warnings.warn(\n"
     ]
    },
    {
     "name": "stdout",
     "output_type": "stream",
     "text": [
      "[-0.00122263  0.00101504]\n"
     ]
    },
    {
     "name": "stderr",
     "output_type": "stream",
     "text": [
      "C:\\Users\\yang\\anaconda3\\lib\\site-packages\\sklearn\\decomposition\\_nmf.py:289: FutureWarning: The 'init' value, when 'init=None' and n_components is less than n_samples and n_features, will be changed from 'nndsvd' to 'nndsvda' in 1.1 (renaming of 0.26).\n",
      "  warnings.warn(\n",
      "C:\\Users\\yang\\anaconda3\\lib\\site-packages\\sklearn\\decomposition\\_nmf.py:1637: ConvergenceWarning: Maximum number of iterations 200 reached. Increase it to improve convergence.\n",
      "  warnings.warn(\n"
     ]
    },
    {
     "name": "stdout",
     "output_type": "stream",
     "text": [
      "[0.00111154 0.007891  ]\n"
     ]
    },
    {
     "name": "stderr",
     "output_type": "stream",
     "text": [
      "C:\\Users\\yang\\anaconda3\\lib\\site-packages\\sklearn\\decomposition\\_nmf.py:289: FutureWarning: The 'init' value, when 'init=None' and n_components is less than n_samples and n_features, will be changed from 'nndsvd' to 'nndsvda' in 1.1 (renaming of 0.26).\n",
      "  warnings.warn(\n",
      "C:\\Users\\yang\\anaconda3\\lib\\site-packages\\sklearn\\decomposition\\_nmf.py:1637: ConvergenceWarning: Maximum number of iterations 200 reached. Increase it to improve convergence.\n",
      "  warnings.warn(\n"
     ]
    },
    {
     "name": "stdout",
     "output_type": "stream",
     "text": [
      "[-0.00560037 -0.00049032]\n"
     ]
    },
    {
     "name": "stderr",
     "output_type": "stream",
     "text": [
      "C:\\Users\\yang\\anaconda3\\lib\\site-packages\\sklearn\\decomposition\\_nmf.py:289: FutureWarning: The 'init' value, when 'init=None' and n_components is less than n_samples and n_features, will be changed from 'nndsvd' to 'nndsvda' in 1.1 (renaming of 0.26).\n",
      "  warnings.warn(\n",
      "C:\\Users\\yang\\anaconda3\\lib\\site-packages\\sklearn\\decomposition\\_nmf.py:1637: ConvergenceWarning: Maximum number of iterations 200 reached. Increase it to improve convergence.\n",
      "  warnings.warn(\n"
     ]
    },
    {
     "name": "stdout",
     "output_type": "stream",
     "text": [
      "[-0.0054843   0.00221067]\n"
     ]
    },
    {
     "data": {
      "text/plain": [
       "[None,\n",
       " None,\n",
       " None,\n",
       " None,\n",
       " None,\n",
       " None,\n",
       " None,\n",
       " None,\n",
       " None,\n",
       " None,\n",
       " None,\n",
       " None,\n",
       " None,\n",
       " None,\n",
       " None,\n",
       " None,\n",
       " None,\n",
       " None]"
      ]
     },
     "execution_count": 23,
     "metadata": {},
     "output_type": "execute_result"
    }
   ],
   "source": [
    "list(map(jisuan_dct_svd2,filename1))"
   ]
  }
 ],
 "metadata": {
  "kernelspec": {
   "display_name": "Python 3 (ipykernel)",
   "language": "python",
   "name": "python3"
  },
  "language_info": {
   "codemirror_mode": {
    "name": "ipython",
    "version": 3
   },
   "file_extension": ".py",
   "mimetype": "text/x-python",
   "name": "python",
   "nbconvert_exporter": "python",
   "pygments_lexer": "ipython3",
   "version": "3.11.5"
  }
 },
 "nbformat": 4,
 "nbformat_minor": 5
}
